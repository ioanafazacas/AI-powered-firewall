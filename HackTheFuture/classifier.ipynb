{
  "cells": [
    {
      "cell_type": "code",
      "execution_count": 4,
      "id": "16607a14-7e72-4598-aecb-ea6f9054dc1a",
      "metadata": {
        "id": "16607a14-7e72-4598-aecb-ea6f9054dc1a"
      },
      "outputs": [],
      "source": [
        "import pandas as pd\n",
        "import sklearn\n",
        "import numpy as np\n",
        "import matplotlib.pyplot as plt\n",
        "import seaborn as sns\n",
        "from sklearn.model_selection import train_test_split\n",
        "from sklearn.preprocessing import StandardScaler\n",
        "from sklearn.metrics import accuracy_score, confusion_matrix\n",
        "from sklearn.ensemble import RandomForestClassifier\n"
      ]
    },
    {
      "cell_type": "code",
      "execution_count": 5,
      "id": "915f9709-7519-48f7-a4a8-29ba89fc30bc",
      "metadata": {
        "colab": {
          "base_uri": "https://localhost:8080/"
        },
        "id": "915f9709-7519-48f7-a4a8-29ba89fc30bc",
        "outputId": "787fd7ca-3884-4048-ce51-f9f9fe26c450"
      },
      "outputs": [
        {
          "name": "stdout",
          "output_type": "stream",
          "text": [
            "Requirement already satisfied: category_encoders in c:\\users\\ioana\\appdata\\local\\programs\\python\\python312\\lib\\site-packages (2.8.1)\n",
            "Requirement already satisfied: numpy>=1.14.0 in c:\\users\\ioana\\appdata\\local\\programs\\python\\python312\\lib\\site-packages (from category_encoders) (2.3.4)\n",
            "Requirement already satisfied: pandas>=1.0.5 in c:\\users\\ioana\\appdata\\local\\programs\\python\\python312\\lib\\site-packages (from category_encoders) (2.3.3)\n",
            "Requirement already satisfied: patsy>=0.5.1 in c:\\users\\ioana\\appdata\\local\\programs\\python\\python312\\lib\\site-packages (from category_encoders) (1.0.2)\n",
            "Requirement already satisfied: scikit-learn>=1.6.0 in c:\\users\\ioana\\appdata\\local\\programs\\python\\python312\\lib\\site-packages (from category_encoders) (1.7.2)\n",
            "Requirement already satisfied: scipy>=1.0.0 in c:\\users\\ioana\\appdata\\local\\programs\\python\\python312\\lib\\site-packages (from category_encoders) (1.16.2)\n",
            "Requirement already satisfied: statsmodels>=0.9.0 in c:\\users\\ioana\\appdata\\local\\programs\\python\\python312\\lib\\site-packages (from category_encoders) (0.14.5)\n",
            "Requirement already satisfied: python-dateutil>=2.8.2 in c:\\users\\ioana\\appdata\\local\\programs\\python\\python312\\lib\\site-packages (from pandas>=1.0.5->category_encoders) (2.9.0.post0)\n",
            "Requirement already satisfied: pytz>=2020.1 in c:\\users\\ioana\\appdata\\local\\programs\\python\\python312\\lib\\site-packages (from pandas>=1.0.5->category_encoders) (2025.2)\n",
            "Requirement already satisfied: tzdata>=2022.7 in c:\\users\\ioana\\appdata\\local\\programs\\python\\python312\\lib\\site-packages (from pandas>=1.0.5->category_encoders) (2025.2)\n",
            "Requirement already satisfied: six>=1.5 in c:\\users\\ioana\\appdata\\local\\programs\\python\\python312\\lib\\site-packages (from python-dateutil>=2.8.2->pandas>=1.0.5->category_encoders) (1.17.0)\n",
            "Requirement already satisfied: joblib>=1.2.0 in c:\\users\\ioana\\appdata\\local\\programs\\python\\python312\\lib\\site-packages (from scikit-learn>=1.6.0->category_encoders) (1.5.2)\n",
            "Requirement already satisfied: threadpoolctl>=3.1.0 in c:\\users\\ioana\\appdata\\local\\programs\\python\\python312\\lib\\site-packages (from scikit-learn>=1.6.0->category_encoders) (3.6.0)\n",
            "Requirement already satisfied: packaging>=21.3 in c:\\users\\ioana\\appdata\\roaming\\python\\python312\\site-packages (from statsmodels>=0.9.0->category_encoders) (25.0)\n",
            "Note: you may need to restart the kernel to use updated packages.\n"
          ]
        }
      ],
      "source": [
        "%pip install category_encoders\n"
      ]
    },
    {
      "cell_type": "code",
      "execution_count": null,
      "id": "1817a87d-75fb-48b9-94e0-989069307ca0",
      "metadata": {
        "id": "1817a87d-75fb-48b9-94e0-989069307ca0"
      },
      "outputs": [],
      "source": [
        "data = r'C:\\Users\\ioana\\an IV sem I\\AI-powered-firewall\\HackTheFuture\\MachineLearningCVE\\Friday-WorkingHours-Afternoon-DDos.pcap_ISCX.csv '\n",
        "df = pd.read_csv(data)"
      ]
    },
    {
      "cell_type": "code",
      "execution_count": 7,
      "id": "e926b528-d106-4eaf-88f4-b6ba1d43552b",
      "metadata": {
        "colab": {
          "base_uri": "https://localhost:8080/",
          "height": 495
        },
        "id": "e926b528-d106-4eaf-88f4-b6ba1d43552b",
        "outputId": "e39af569-3ed3-4e3c-e634-dcd670828750"
      },
      "outputs": [
        {
          "data": {
            "text/html": [
              "<div>\n",
              "<style scoped>\n",
              "    .dataframe tbody tr th:only-of-type {\n",
              "        vertical-align: middle;\n",
              "    }\n",
              "\n",
              "    .dataframe tbody tr th {\n",
              "        vertical-align: top;\n",
              "    }\n",
              "\n",
              "    .dataframe thead th {\n",
              "        text-align: right;\n",
              "    }\n",
              "</style>\n",
              "<table border=\"1\" class=\"dataframe\">\n",
              "  <thead>\n",
              "    <tr style=\"text-align: right;\">\n",
              "      <th></th>\n",
              "      <th>Destination Port</th>\n",
              "      <th>Flow Duration</th>\n",
              "      <th>Total Fwd Packets</th>\n",
              "      <th>Total Backward Packets</th>\n",
              "      <th>Total Length of Fwd Packets</th>\n",
              "      <th>Total Length of Bwd Packets</th>\n",
              "      <th>Fwd Packet Length Max</th>\n",
              "      <th>Fwd Packet Length Min</th>\n",
              "      <th>Fwd Packet Length Mean</th>\n",
              "      <th>Fwd Packet Length Std</th>\n",
              "      <th>...</th>\n",
              "      <th>min_seg_size_forward</th>\n",
              "      <th>Active Mean</th>\n",
              "      <th>Active Std</th>\n",
              "      <th>Active Max</th>\n",
              "      <th>Active Min</th>\n",
              "      <th>Idle Mean</th>\n",
              "      <th>Idle Std</th>\n",
              "      <th>Idle Max</th>\n",
              "      <th>Idle Min</th>\n",
              "      <th>Label</th>\n",
              "    </tr>\n",
              "  </thead>\n",
              "  <tbody>\n",
              "    <tr>\n",
              "      <th>0</th>\n",
              "      <td>54865</td>\n",
              "      <td>3</td>\n",
              "      <td>2</td>\n",
              "      <td>0</td>\n",
              "      <td>12</td>\n",
              "      <td>0</td>\n",
              "      <td>6</td>\n",
              "      <td>6</td>\n",
              "      <td>6.0</td>\n",
              "      <td>0.0</td>\n",
              "      <td>...</td>\n",
              "      <td>20</td>\n",
              "      <td>0.0</td>\n",
              "      <td>0.0</td>\n",
              "      <td>0</td>\n",
              "      <td>0</td>\n",
              "      <td>0.0</td>\n",
              "      <td>0.0</td>\n",
              "      <td>0</td>\n",
              "      <td>0</td>\n",
              "      <td>BENIGN</td>\n",
              "    </tr>\n",
              "    <tr>\n",
              "      <th>1</th>\n",
              "      <td>55054</td>\n",
              "      <td>109</td>\n",
              "      <td>1</td>\n",
              "      <td>1</td>\n",
              "      <td>6</td>\n",
              "      <td>6</td>\n",
              "      <td>6</td>\n",
              "      <td>6</td>\n",
              "      <td>6.0</td>\n",
              "      <td>0.0</td>\n",
              "      <td>...</td>\n",
              "      <td>20</td>\n",
              "      <td>0.0</td>\n",
              "      <td>0.0</td>\n",
              "      <td>0</td>\n",
              "      <td>0</td>\n",
              "      <td>0.0</td>\n",
              "      <td>0.0</td>\n",
              "      <td>0</td>\n",
              "      <td>0</td>\n",
              "      <td>BENIGN</td>\n",
              "    </tr>\n",
              "    <tr>\n",
              "      <th>2</th>\n",
              "      <td>55055</td>\n",
              "      <td>52</td>\n",
              "      <td>1</td>\n",
              "      <td>1</td>\n",
              "      <td>6</td>\n",
              "      <td>6</td>\n",
              "      <td>6</td>\n",
              "      <td>6</td>\n",
              "      <td>6.0</td>\n",
              "      <td>0.0</td>\n",
              "      <td>...</td>\n",
              "      <td>20</td>\n",
              "      <td>0.0</td>\n",
              "      <td>0.0</td>\n",
              "      <td>0</td>\n",
              "      <td>0</td>\n",
              "      <td>0.0</td>\n",
              "      <td>0.0</td>\n",
              "      <td>0</td>\n",
              "      <td>0</td>\n",
              "      <td>BENIGN</td>\n",
              "    </tr>\n",
              "    <tr>\n",
              "      <th>3</th>\n",
              "      <td>46236</td>\n",
              "      <td>34</td>\n",
              "      <td>1</td>\n",
              "      <td>1</td>\n",
              "      <td>6</td>\n",
              "      <td>6</td>\n",
              "      <td>6</td>\n",
              "      <td>6</td>\n",
              "      <td>6.0</td>\n",
              "      <td>0.0</td>\n",
              "      <td>...</td>\n",
              "      <td>20</td>\n",
              "      <td>0.0</td>\n",
              "      <td>0.0</td>\n",
              "      <td>0</td>\n",
              "      <td>0</td>\n",
              "      <td>0.0</td>\n",
              "      <td>0.0</td>\n",
              "      <td>0</td>\n",
              "      <td>0</td>\n",
              "      <td>BENIGN</td>\n",
              "    </tr>\n",
              "    <tr>\n",
              "      <th>4</th>\n",
              "      <td>54863</td>\n",
              "      <td>3</td>\n",
              "      <td>2</td>\n",
              "      <td>0</td>\n",
              "      <td>12</td>\n",
              "      <td>0</td>\n",
              "      <td>6</td>\n",
              "      <td>6</td>\n",
              "      <td>6.0</td>\n",
              "      <td>0.0</td>\n",
              "      <td>...</td>\n",
              "      <td>20</td>\n",
              "      <td>0.0</td>\n",
              "      <td>0.0</td>\n",
              "      <td>0</td>\n",
              "      <td>0</td>\n",
              "      <td>0.0</td>\n",
              "      <td>0.0</td>\n",
              "      <td>0</td>\n",
              "      <td>0</td>\n",
              "      <td>BENIGN</td>\n",
              "    </tr>\n",
              "    <tr>\n",
              "      <th>...</th>\n",
              "      <td>...</td>\n",
              "      <td>...</td>\n",
              "      <td>...</td>\n",
              "      <td>...</td>\n",
              "      <td>...</td>\n",
              "      <td>...</td>\n",
              "      <td>...</td>\n",
              "      <td>...</td>\n",
              "      <td>...</td>\n",
              "      <td>...</td>\n",
              "      <td>...</td>\n",
              "      <td>...</td>\n",
              "      <td>...</td>\n",
              "      <td>...</td>\n",
              "      <td>...</td>\n",
              "      <td>...</td>\n",
              "      <td>...</td>\n",
              "      <td>...</td>\n",
              "      <td>...</td>\n",
              "      <td>...</td>\n",
              "      <td>...</td>\n",
              "    </tr>\n",
              "    <tr>\n",
              "      <th>225740</th>\n",
              "      <td>61374</td>\n",
              "      <td>61</td>\n",
              "      <td>1</td>\n",
              "      <td>1</td>\n",
              "      <td>6</td>\n",
              "      <td>6</td>\n",
              "      <td>6</td>\n",
              "      <td>6</td>\n",
              "      <td>6.0</td>\n",
              "      <td>0.0</td>\n",
              "      <td>...</td>\n",
              "      <td>20</td>\n",
              "      <td>0.0</td>\n",
              "      <td>0.0</td>\n",
              "      <td>0</td>\n",
              "      <td>0</td>\n",
              "      <td>0.0</td>\n",
              "      <td>0.0</td>\n",
              "      <td>0</td>\n",
              "      <td>0</td>\n",
              "      <td>BENIGN</td>\n",
              "    </tr>\n",
              "    <tr>\n",
              "      <th>225741</th>\n",
              "      <td>61378</td>\n",
              "      <td>72</td>\n",
              "      <td>1</td>\n",
              "      <td>1</td>\n",
              "      <td>6</td>\n",
              "      <td>6</td>\n",
              "      <td>6</td>\n",
              "      <td>6</td>\n",
              "      <td>6.0</td>\n",
              "      <td>0.0</td>\n",
              "      <td>...</td>\n",
              "      <td>20</td>\n",
              "      <td>0.0</td>\n",
              "      <td>0.0</td>\n",
              "      <td>0</td>\n",
              "      <td>0</td>\n",
              "      <td>0.0</td>\n",
              "      <td>0.0</td>\n",
              "      <td>0</td>\n",
              "      <td>0</td>\n",
              "      <td>BENIGN</td>\n",
              "    </tr>\n",
              "    <tr>\n",
              "      <th>225742</th>\n",
              "      <td>61375</td>\n",
              "      <td>75</td>\n",
              "      <td>1</td>\n",
              "      <td>1</td>\n",
              "      <td>6</td>\n",
              "      <td>6</td>\n",
              "      <td>6</td>\n",
              "      <td>6</td>\n",
              "      <td>6.0</td>\n",
              "      <td>0.0</td>\n",
              "      <td>...</td>\n",
              "      <td>20</td>\n",
              "      <td>0.0</td>\n",
              "      <td>0.0</td>\n",
              "      <td>0</td>\n",
              "      <td>0</td>\n",
              "      <td>0.0</td>\n",
              "      <td>0.0</td>\n",
              "      <td>0</td>\n",
              "      <td>0</td>\n",
              "      <td>BENIGN</td>\n",
              "    </tr>\n",
              "    <tr>\n",
              "      <th>225743</th>\n",
              "      <td>61323</td>\n",
              "      <td>48</td>\n",
              "      <td>2</td>\n",
              "      <td>0</td>\n",
              "      <td>12</td>\n",
              "      <td>0</td>\n",
              "      <td>6</td>\n",
              "      <td>6</td>\n",
              "      <td>6.0</td>\n",
              "      <td>0.0</td>\n",
              "      <td>...</td>\n",
              "      <td>20</td>\n",
              "      <td>0.0</td>\n",
              "      <td>0.0</td>\n",
              "      <td>0</td>\n",
              "      <td>0</td>\n",
              "      <td>0.0</td>\n",
              "      <td>0.0</td>\n",
              "      <td>0</td>\n",
              "      <td>0</td>\n",
              "      <td>BENIGN</td>\n",
              "    </tr>\n",
              "    <tr>\n",
              "      <th>225744</th>\n",
              "      <td>61326</td>\n",
              "      <td>68</td>\n",
              "      <td>1</td>\n",
              "      <td>1</td>\n",
              "      <td>6</td>\n",
              "      <td>6</td>\n",
              "      <td>6</td>\n",
              "      <td>6</td>\n",
              "      <td>6.0</td>\n",
              "      <td>0.0</td>\n",
              "      <td>...</td>\n",
              "      <td>20</td>\n",
              "      <td>0.0</td>\n",
              "      <td>0.0</td>\n",
              "      <td>0</td>\n",
              "      <td>0</td>\n",
              "      <td>0.0</td>\n",
              "      <td>0.0</td>\n",
              "      <td>0</td>\n",
              "      <td>0</td>\n",
              "      <td>BENIGN</td>\n",
              "    </tr>\n",
              "  </tbody>\n",
              "</table>\n",
              "<p>225745 rows × 79 columns</p>\n",
              "</div>"
            ],
            "text/plain": [
              "         Destination Port   Flow Duration   Total Fwd Packets  \\\n",
              "0                   54865               3                   2   \n",
              "1                   55054             109                   1   \n",
              "2                   55055              52                   1   \n",
              "3                   46236              34                   1   \n",
              "4                   54863               3                   2   \n",
              "...                   ...             ...                 ...   \n",
              "225740              61374              61                   1   \n",
              "225741              61378              72                   1   \n",
              "225742              61375              75                   1   \n",
              "225743              61323              48                   2   \n",
              "225744              61326              68                   1   \n",
              "\n",
              "         Total Backward Packets  Total Length of Fwd Packets  \\\n",
              "0                             0                           12   \n",
              "1                             1                            6   \n",
              "2                             1                            6   \n",
              "3                             1                            6   \n",
              "4                             0                           12   \n",
              "...                         ...                          ...   \n",
              "225740                        1                            6   \n",
              "225741                        1                            6   \n",
              "225742                        1                            6   \n",
              "225743                        0                           12   \n",
              "225744                        1                            6   \n",
              "\n",
              "         Total Length of Bwd Packets   Fwd Packet Length Max  \\\n",
              "0                                  0                       6   \n",
              "1                                  6                       6   \n",
              "2                                  6                       6   \n",
              "3                                  6                       6   \n",
              "4                                  0                       6   \n",
              "...                              ...                     ...   \n",
              "225740                             6                       6   \n",
              "225741                             6                       6   \n",
              "225742                             6                       6   \n",
              "225743                             0                       6   \n",
              "225744                             6                       6   \n",
              "\n",
              "         Fwd Packet Length Min   Fwd Packet Length Mean  \\\n",
              "0                            6                      6.0   \n",
              "1                            6                      6.0   \n",
              "2                            6                      6.0   \n",
              "3                            6                      6.0   \n",
              "4                            6                      6.0   \n",
              "...                        ...                      ...   \n",
              "225740                       6                      6.0   \n",
              "225741                       6                      6.0   \n",
              "225742                       6                      6.0   \n",
              "225743                       6                      6.0   \n",
              "225744                       6                      6.0   \n",
              "\n",
              "         Fwd Packet Length Std  ...   min_seg_size_forward  Active Mean  \\\n",
              "0                          0.0  ...                     20          0.0   \n",
              "1                          0.0  ...                     20          0.0   \n",
              "2                          0.0  ...                     20          0.0   \n",
              "3                          0.0  ...                     20          0.0   \n",
              "4                          0.0  ...                     20          0.0   \n",
              "...                        ...  ...                    ...          ...   \n",
              "225740                     0.0  ...                     20          0.0   \n",
              "225741                     0.0  ...                     20          0.0   \n",
              "225742                     0.0  ...                     20          0.0   \n",
              "225743                     0.0  ...                     20          0.0   \n",
              "225744                     0.0  ...                     20          0.0   \n",
              "\n",
              "         Active Std   Active Max   Active Min  Idle Mean   Idle Std  \\\n",
              "0               0.0            0            0        0.0        0.0   \n",
              "1               0.0            0            0        0.0        0.0   \n",
              "2               0.0            0            0        0.0        0.0   \n",
              "3               0.0            0            0        0.0        0.0   \n",
              "4               0.0            0            0        0.0        0.0   \n",
              "...             ...          ...          ...        ...        ...   \n",
              "225740          0.0            0            0        0.0        0.0   \n",
              "225741          0.0            0            0        0.0        0.0   \n",
              "225742          0.0            0            0        0.0        0.0   \n",
              "225743          0.0            0            0        0.0        0.0   \n",
              "225744          0.0            0            0        0.0        0.0   \n",
              "\n",
              "         Idle Max   Idle Min   Label  \n",
              "0               0          0  BENIGN  \n",
              "1               0          0  BENIGN  \n",
              "2               0          0  BENIGN  \n",
              "3               0          0  BENIGN  \n",
              "4               0          0  BENIGN  \n",
              "...           ...        ...     ...  \n",
              "225740          0          0  BENIGN  \n",
              "225741          0          0  BENIGN  \n",
              "225742          0          0  BENIGN  \n",
              "225743          0          0  BENIGN  \n",
              "225744          0          0  BENIGN  \n",
              "\n",
              "[225745 rows x 79 columns]"
            ]
          },
          "execution_count": 7,
          "metadata": {},
          "output_type": "execute_result"
        }
      ],
      "source": [
        "df"
      ]
    },
    {
      "cell_type": "code",
      "execution_count": 8,
      "id": "8e2387c4-b14a-4a59-8c0e-025ec0b010a0",
      "metadata": {
        "colab": {
          "base_uri": "https://localhost:8080/",
          "height": 458
        },
        "id": "8e2387c4-b14a-4a59-8c0e-025ec0b010a0",
        "outputId": "c197ee62-34c0-4994-d0b3-926b742bc18b"
      },
      "outputs": [
        {
          "data": {
            "text/plain": [
              " Destination Port              0\n",
              " Flow Duration                 0\n",
              " Total Fwd Packets             0\n",
              " Total Backward Packets        0\n",
              "Total Length of Fwd Packets    0\n",
              "                              ..\n",
              "Idle Mean                      0\n",
              " Idle Std                      0\n",
              " Idle Max                      0\n",
              " Idle Min                      0\n",
              " Label                         0\n",
              "Length: 79, dtype: int64"
            ]
          },
          "execution_count": 8,
          "metadata": {},
          "output_type": "execute_result"
        }
      ],
      "source": [
        "df.isnull().sum()"
      ]
    },
    {
      "cell_type": "code",
      "execution_count": 9,
      "id": "ecbf5200-9fe7-436f-b74c-ac865036457b",
      "metadata": {
        "colab": {
          "base_uri": "https://localhost:8080/",
          "height": 458
        },
        "id": "ecbf5200-9fe7-436f-b74c-ac865036457b",
        "outputId": "672365d8-57a9-4e5f-baed-6c742130bf48"
      },
      "outputs": [
        {
          "data": {
            "text/plain": [
              " Destination Port              0\n",
              " Flow Duration                 0\n",
              " Total Fwd Packets             0\n",
              " Total Backward Packets        0\n",
              "Total Length of Fwd Packets    0\n",
              "                              ..\n",
              "Idle Mean                      0\n",
              " Idle Std                      0\n",
              " Idle Max                      0\n",
              " Idle Min                      0\n",
              " Label                         0\n",
              "Length: 79, dtype: int64"
            ]
          },
          "execution_count": 9,
          "metadata": {},
          "output_type": "execute_result"
        }
      ],
      "source": [
        "df.isna().sum()"
      ]
    },
    {
      "cell_type": "code",
      "execution_count": 10,
      "id": "e1aaddf0",
      "metadata": {},
      "outputs": [
        {
          "data": {
            "text/plain": [
              "Index([' Destination Port', ' Flow Duration', ' Total Fwd Packets',\n",
              "       ' Total Backward Packets', 'Total Length of Fwd Packets',\n",
              "       ' Total Length of Bwd Packets', ' Fwd Packet Length Max',\n",
              "       ' Fwd Packet Length Min', ' Fwd Packet Length Mean',\n",
              "       ' Fwd Packet Length Std', 'Bwd Packet Length Max',\n",
              "       ' Bwd Packet Length Min', ' Bwd Packet Length Mean',\n",
              "       ' Bwd Packet Length Std', 'Flow Bytes/s', ' Flow Packets/s',\n",
              "       ' Flow IAT Mean', ' Flow IAT Std', ' Flow IAT Max', ' Flow IAT Min',\n",
              "       'Fwd IAT Total', ' Fwd IAT Mean', ' Fwd IAT Std', ' Fwd IAT Max',\n",
              "       ' Fwd IAT Min', 'Bwd IAT Total', ' Bwd IAT Mean', ' Bwd IAT Std',\n",
              "       ' Bwd IAT Max', ' Bwd IAT Min', 'Fwd PSH Flags', ' Bwd PSH Flags',\n",
              "       ' Fwd URG Flags', ' Bwd URG Flags', ' Fwd Header Length',\n",
              "       ' Bwd Header Length', 'Fwd Packets/s', ' Bwd Packets/s',\n",
              "       ' Min Packet Length', ' Max Packet Length', ' Packet Length Mean',\n",
              "       ' Packet Length Std', ' Packet Length Variance', 'FIN Flag Count',\n",
              "       ' SYN Flag Count', ' RST Flag Count', ' PSH Flag Count',\n",
              "       ' ACK Flag Count', ' URG Flag Count', ' CWE Flag Count',\n",
              "       ' ECE Flag Count', ' Down/Up Ratio', ' Average Packet Size',\n",
              "       ' Avg Fwd Segment Size', ' Avg Bwd Segment Size',\n",
              "       ' Fwd Header Length.1', 'Fwd Avg Bytes/Bulk', ' Fwd Avg Packets/Bulk',\n",
              "       ' Fwd Avg Bulk Rate', ' Bwd Avg Bytes/Bulk', ' Bwd Avg Packets/Bulk',\n",
              "       'Bwd Avg Bulk Rate', 'Subflow Fwd Packets', ' Subflow Fwd Bytes',\n",
              "       ' Subflow Bwd Packets', ' Subflow Bwd Bytes', 'Init_Win_bytes_forward',\n",
              "       ' Init_Win_bytes_backward', ' act_data_pkt_fwd',\n",
              "       ' min_seg_size_forward', 'Active Mean', ' Active Std', ' Active Max',\n",
              "       ' Active Min', 'Idle Mean', ' Idle Std', ' Idle Max', ' Idle Min',\n",
              "       ' Label'],\n",
              "      dtype='object')"
            ]
          },
          "execution_count": 10,
          "metadata": {},
          "output_type": "execute_result"
        }
      ],
      "source": [
        "df.columns"
      ]
    },
    {
      "cell_type": "code",
      "execution_count": 11,
      "id": "1aba3384",
      "metadata": {},
      "outputs": [],
      "source": [
        "df.columns = df.columns.str.strip()"
      ]
    },
    {
      "cell_type": "code",
      "execution_count": 12,
      "id": "84a3f565-d16c-4fe3-9154-e9a4a608c971",
      "metadata": {
        "colab": {
          "base_uri": "https://localhost:8080/"
        },
        "id": "84a3f565-d16c-4fe3-9154-e9a4a608c971",
        "outputId": "5c7ca206-398b-46af-95f6-b4acbcce19ba"
      },
      "outputs": [
        {
          "data": {
            "text/plain": [
              "Label\n",
              "DDoS      128027\n",
              "BENIGN     97718\n",
              "Name: count, dtype: int64"
            ]
          },
          "execution_count": 12,
          "metadata": {},
          "output_type": "execute_result"
        }
      ],
      "source": [
        "df['Label'].value_counts()"
      ]
    },
    {
      "cell_type": "code",
      "execution_count": 13,
      "id": "0d8d9483-c9ab-46e3-bb26-213d9d0b7581",
      "metadata": {
        "colab": {
          "base_uri": "https://localhost:8080/"
        },
        "id": "0d8d9483-c9ab-46e3-bb26-213d9d0b7581",
        "outputId": "584080fb-0be8-4254-b146-1ba4b4c07029"
      },
      "outputs": [
        {
          "data": {
            "text/plain": [
              "Index(['Destination Port', 'Flow Duration', 'Total Fwd Packets',\n",
              "       'Total Backward Packets', 'Total Length of Fwd Packets',\n",
              "       'Total Length of Bwd Packets', 'Fwd Packet Length Max',\n",
              "       'Fwd Packet Length Min', 'Fwd Packet Length Mean',\n",
              "       'Fwd Packet Length Std', 'Bwd Packet Length Max',\n",
              "       'Bwd Packet Length Min', 'Bwd Packet Length Mean',\n",
              "       'Bwd Packet Length Std', 'Flow Bytes/s', 'Flow Packets/s',\n",
              "       'Flow IAT Mean', 'Flow IAT Std', 'Flow IAT Max', 'Flow IAT Min',\n",
              "       'Fwd IAT Total', 'Fwd IAT Mean', 'Fwd IAT Std', 'Fwd IAT Max',\n",
              "       'Fwd IAT Min', 'Bwd IAT Total', 'Bwd IAT Mean', 'Bwd IAT Std',\n",
              "       'Bwd IAT Max', 'Bwd IAT Min', 'Fwd PSH Flags', 'Bwd PSH Flags',\n",
              "       'Fwd URG Flags', 'Bwd URG Flags', 'Fwd Header Length',\n",
              "       'Bwd Header Length', 'Fwd Packets/s', 'Bwd Packets/s',\n",
              "       'Min Packet Length', 'Max Packet Length', 'Packet Length Mean',\n",
              "       'Packet Length Std', 'Packet Length Variance', 'FIN Flag Count',\n",
              "       'SYN Flag Count', 'RST Flag Count', 'PSH Flag Count', 'ACK Flag Count',\n",
              "       'URG Flag Count', 'CWE Flag Count', 'ECE Flag Count', 'Down/Up Ratio',\n",
              "       'Average Packet Size', 'Avg Fwd Segment Size', 'Avg Bwd Segment Size',\n",
              "       'Fwd Header Length.1', 'Fwd Avg Bytes/Bulk', 'Fwd Avg Packets/Bulk',\n",
              "       'Fwd Avg Bulk Rate', 'Bwd Avg Bytes/Bulk', 'Bwd Avg Packets/Bulk',\n",
              "       'Bwd Avg Bulk Rate', 'Subflow Fwd Packets', 'Subflow Fwd Bytes',\n",
              "       'Subflow Bwd Packets', 'Subflow Bwd Bytes', 'Init_Win_bytes_forward',\n",
              "       'Init_Win_bytes_backward', 'act_data_pkt_fwd', 'min_seg_size_forward',\n",
              "       'Active Mean', 'Active Std', 'Active Max', 'Active Min', 'Idle Mean',\n",
              "       'Idle Std', 'Idle Max', 'Idle Min', 'Label'],\n",
              "      dtype='object')"
            ]
          },
          "execution_count": 13,
          "metadata": {},
          "output_type": "execute_result"
        }
      ],
      "source": [
        "df.columns"
      ]
    },
    {
      "cell_type": "code",
      "execution_count": 14,
      "id": "b84699ad-9c51-4b0b-bbc4-d309710ac71c",
      "metadata": {
        "id": "b84699ad-9c51-4b0b-bbc4-d309710ac71c"
      },
      "outputs": [],
      "source": [
        "X = df.drop(['Label'], axis=1)"
      ]
    },
    {
      "cell_type": "code",
      "execution_count": 15,
      "id": "6a130c72-57e3-474d-9410-402c272c85f1",
      "metadata": {
        "id": "6a130c72-57e3-474d-9410-402c272c85f1"
      },
      "outputs": [],
      "source": [
        "y = df['Label']"
      ]
    },
    {
      "cell_type": "code",
      "execution_count": 16,
      "id": "07a57089-f7c8-461a-a30b-2d99fd0576f5",
      "metadata": {
        "id": "07a57089-f7c8-461a-a30b-2d99fd0576f5"
      },
      "outputs": [],
      "source": [
        "X_train, X_test, y_train, y_test = train_test_split(X, y, test_size=0.3, random_state=0)"
      ]
    },
    {
      "cell_type": "code",
      "execution_count": 17,
      "id": "d607ca3e-ce77-4c08-b8f3-1653dde1bece",
      "metadata": {
        "id": "d607ca3e-ce77-4c08-b8f3-1653dde1bece"
      },
      "outputs": [],
      "source": [
        "from sklearn.preprocessing import LabelEncoder\n",
        "le = LabelEncoder()\n",
        "y_encoder = le.fit_transform(y)"
      ]
    },
    {
      "cell_type": "code",
      "execution_count": 18,
      "id": "9cec5786-61b8-4bbf-bf67-0fd481d42247",
      "metadata": {
        "colab": {
          "base_uri": "https://localhost:8080/"
        },
        "id": "9cec5786-61b8-4bbf-bf67-0fd481d42247",
        "outputId": "1a3cd6b8-7228-489f-82eb-5518db64b965"
      },
      "outputs": [
        {
          "name": "stdout",
          "output_type": "stream",
          "text": [
            "NaN totale: Destination Port               0\n",
            "Flow Duration                  0\n",
            "Total Fwd Packets              0\n",
            "Total Backward Packets         0\n",
            "Total Length of Fwd Packets    0\n",
            "                              ..\n",
            "Active Min                     0\n",
            "Idle Mean                      0\n",
            "Idle Std                       0\n",
            "Idle Max                       0\n",
            "Idle Min                       0\n",
            "Length: 78, dtype: int64\n",
            "Inf totale: Destination Port               0\n",
            "Flow Duration                  0\n",
            "Total Fwd Packets              0\n",
            "Total Backward Packets         0\n",
            "Total Length of Fwd Packets    0\n",
            "                              ..\n",
            "Active Min                     0\n",
            "Idle Mean                      0\n",
            "Idle Std                       0\n",
            "Idle Max                       0\n",
            "Idle Min                       0\n",
            "Length: 78, dtype: int64\n",
            "Max value: inf\n",
            "Min value: -12000000.0\n"
          ]
        }
      ],
      "source": [
        "import numpy as np\n",
        "import pandas as pd\n",
        "\n",
        "print(\"NaN totale:\", np.isnan(X_train).sum())\n",
        "print(\"Inf totale:\", np.isinf(X_train).sum())\n",
        "\n",
        "print(\"Max value:\", np.nanmax(X_train))\n",
        "print(\"Min value:\", np.nanmin(X_train))\n"
      ]
    },
    {
      "cell_type": "code",
      "execution_count": 19,
      "id": "dc284da7-d01c-48e0-8790-5bfdb456c50d",
      "metadata": {
        "colab": {
          "base_uri": "https://localhost:8080/",
          "height": 458
        },
        "id": "dc284da7-d01c-48e0-8790-5bfdb456c50d",
        "outputId": "e7b5a4aa-a2fe-4c1e-eefe-2d8ee5fe4e45"
      },
      "outputs": [
        {
          "data": {
            "text/plain": [
              "Destination Port               0\n",
              "Flow Duration                  0\n",
              "Total Fwd Packets              0\n",
              "Total Backward Packets         0\n",
              "Total Length of Fwd Packets    0\n",
              "                              ..\n",
              "Active Min                     0\n",
              "Idle Mean                      0\n",
              "Idle Std                       0\n",
              "Idle Max                       0\n",
              "Idle Min                       0\n",
              "Length: 78, dtype: int64"
            ]
          },
          "execution_count": 19,
          "metadata": {},
          "output_type": "execute_result"
        }
      ],
      "source": [
        "np.isinf(X).sum()"
      ]
    },
    {
      "cell_type": "code",
      "execution_count": 20,
      "id": "69602a58-897b-4353-baad-73e2f31c9354",
      "metadata": {
        "colab": {
          "base_uri": "https://localhost:8080/"
        },
        "id": "69602a58-897b-4353-baad-73e2f31c9354",
        "outputId": "a340913c-3dab-48b3-9a62-f3b3df1ac68c"
      },
      "outputs": [
        {
          "name": "stdout",
          "output_type": "stream",
          "text": [
            "Total number infinite values: 45\n",
            "First locations: [(np.int64(13706), 'Flow Bytes/s'), (np.int64(13706), 'Flow Packets/s'), (np.int64(19726), 'Flow Bytes/s'), (np.int64(19726), 'Flow Packets/s'), (np.int64(27767), 'Flow Bytes/s'), (np.int64(27767), 'Flow Packets/s'), (np.int64(33265), 'Flow Bytes/s'), (np.int64(33265), 'Flow Packets/s'), (np.int64(37849), 'Flow Bytes/s'), (np.int64(37849), 'Flow Packets/s'), (np.int64(39366), 'Flow Bytes/s'), (np.int64(39366), 'Flow Packets/s'), (np.int64(43130), 'Flow Packets/s'), (np.int64(43681), 'Flow Bytes/s'), (np.int64(43681), 'Flow Packets/s'), (np.int64(54820), 'Flow Packets/s'), (np.int64(59941), 'Flow Bytes/s'), (np.int64(59941), 'Flow Packets/s'), (np.int64(66005), 'Flow Bytes/s'), (np.int64(66005), 'Flow Packets/s'), (np.int64(79890), 'Flow Bytes/s'), (np.int64(79890), 'Flow Packets/s'), (np.int64(91620), 'Flow Bytes/s'), (np.int64(91620), 'Flow Packets/s'), (np.int64(95233), 'Flow Bytes/s'), (np.int64(95233), 'Flow Packets/s'), (np.int64(103839), 'Flow Bytes/s'), (np.int64(103839), 'Flow Packets/s'), (np.int64(113343), 'Flow Bytes/s'), (np.int64(113343), 'Flow Packets/s'), (np.int64(116142), 'Flow Bytes/s'), (np.int64(116142), 'Flow Packets/s'), (np.int64(118846), 'Flow Bytes/s'), (np.int64(118846), 'Flow Packets/s'), (np.int64(129424), 'Flow Bytes/s'), (np.int64(129424), 'Flow Packets/s'), (np.int64(137220), 'Flow Packets/s'), (np.int64(139660), 'Flow Bytes/s'), (np.int64(139660), 'Flow Packets/s'), (np.int64(149475), 'Flow Bytes/s'), (np.int64(149475), 'Flow Packets/s'), (np.int64(152282), 'Flow Bytes/s'), (np.int64(152282), 'Flow Packets/s'), (np.int64(153957), 'Flow Bytes/s'), (np.int64(153957), 'Flow Packets/s')]\n"
          ]
        }
      ],
      "source": [
        "rows, cols = np.where(np.isinf(X_train))\n",
        "print(\"Total number infinite values:\", len(rows))\n",
        "print(\"First locations:\", list(zip(rows, X_train.columns[cols])))\n",
        "\n"
      ]
    },
    {
      "cell_type": "code",
      "execution_count": 21,
      "id": "e1a71e1c-7607-433b-94b0-25853c332f3c",
      "metadata": {
        "colab": {
          "base_uri": "https://localhost:8080/"
        },
        "id": "e1a71e1c-7607-433b-94b0-25853c332f3c",
        "outputId": "3e403a10-fe39-462f-fda8-babe005c043c"
      },
      "outputs": [
        {
          "name": "stdout",
          "output_type": "stream",
          "text": [
            "Before drop:\n",
            "Train shape: (158021, 78), Test shape: (67724, 78)\n",
            "Rows with inf in train: 24\n",
            "Rows inf in test: 10\n",
            "After drop:\n",
            "Train shape: (157997, 78), Test shape: (67714, 78)\n"
          ]
        }
      ],
      "source": [
        "print(\"Before drop:\")\n",
        "print(f\"Train shape: {X_train.shape}, Test shape: {X_test.shape}\")\n",
        "inf_rows_train = np.isinf(X_train).any(axis=1)\n",
        "print(f\"Rows with inf in train: {inf_rows_train.sum()}\")\n",
        "\n",
        "inf_rows_test = np.isinf(X_test).any(axis=1)\n",
        "print(f\"Rows inf in test: {inf_rows_test.sum()}\")\n",
        "\n",
        "X_train = X_train[~inf_rows_train]\n",
        "y_train = y_train[~inf_rows_train]\n",
        "\n",
        "X_test = X_test[~inf_rows_test]\n",
        "y_test = y_test[~inf_rows_test]\n",
        "\n",
        "print(\"After drop:\")\n",
        "print(f\"Train shape: {X_train.shape}, Test shape: {X_test.shape}\")\n",
        "\n"
      ]
    },
    {
      "cell_type": "code",
      "execution_count": 22,
      "id": "7a56d992-0021-48d5-840d-d988de95648f",
      "metadata": {
        "id": "7a56d992-0021-48d5-840d-d988de95648f"
      },
      "outputs": [],
      "source": [
        "scaler = StandardScaler()\n",
        "X_train = scaler.fit_transform(X_train)\n",
        "X_test = scaler.transform(X_test)"
      ]
    },
    {
      "cell_type": "code",
      "execution_count": 23,
      "id": "0942cd84-19b9-44c4-8341-9e5a7bd0163b",
      "metadata": {
        "id": "0942cd84-19b9-44c4-8341-9e5a7bd0163b"
      },
      "outputs": [],
      "source": [
        "classifier = RandomForestClassifier(n_estimators=101, random_state=0)\n",
        "classifier.fit(X_train, y_train)\n",
        "y_pred = classifier.predict(X_test)"
      ]
    },
    {
      "cell_type": "code",
      "execution_count": 24,
      "id": "cb4fae4a-f4ba-4804-a955-25ed05594be8",
      "metadata": {
        "colab": {
          "base_uri": "https://localhost:8080/",
          "height": 581
        },
        "id": "cb4fae4a-f4ba-4804-a955-25ed05594be8",
        "outputId": "e72d0c58-e1dc-4698-dc66-ff727be638bc"
      },
      "outputs": [
        {
          "name": "stdout",
          "output_type": "stream",
          "text": [
            "Accuracy: 99.99%\n"
          ]
        },
        {
          "data": {
            "image/png": "[encoded data removed]",
            "text/plain": [
              "<Figure size 800x600 with 1 Axes>"
            ]
          },
          "metadata": {},
          "output_type": "display_data"
        }
      ],
      "source": [
        "accuracy = accuracy_score(y_test, y_pred)\n",
        "print(f'Accuracy: {accuracy * 100:.2f}%')\n",
        "\n",
        "conf_matrix = confusion_matrix(y_test, y_pred)\n",
        "\n",
        "labels = sorted(list(set(y_test)))\n",
        "\n",
        "plt.figure(figsize=(8, 6))\n",
        "sns.heatmap(conf_matrix, annot=True, fmt='g', cmap='Blues', cbar=False,\n",
        "            xticklabels=labels, yticklabels=labels)\n",
        "\n",
        "plt.title('Confusion Matrix Heatmap')\n",
        "plt.xlabel('Predicted Labels')\n",
        "plt.ylabel('True Labels')\n",
        "plt.show()"
      ]
    },
    {
      "cell_type": "code",
      "execution_count": 25,
      "id": "NeT44wpO6Zg3",
      "metadata": {
        "colab": {
          "base_uri": "https://localhost:8080/"
        },
        "id": "NeT44wpO6Zg3",
        "outputId": "1bbbdbca-9c31-4ad3-a1b1-9a6d0e1a1937"
      },
      "outputs": [
        {
          "name": "stdout",
          "output_type": "stream",
          "text": [
            "              precision    recall  f1-score   support\n",
            "\n",
            "      BENIGN       1.00      1.00      1.00     29398\n",
            "        DDoS       1.00      1.00      1.00     38316\n",
            "\n",
            "    accuracy                           1.00     67714\n",
            "   macro avg       1.00      1.00      1.00     67714\n",
            "weighted avg       1.00      1.00      1.00     67714\n",
            "\n"
          ]
        }
      ],
      "source": [
        "from sklearn.metrics import classification_report\n",
        "print(classification_report(y_test, y_pred))\n"
      ]
    },
    {
      "cell_type": "code",
      "execution_count": 26,
      "id": "8Z3ncy004b-u",
      "metadata": {
        "colab": {
          "base_uri": "https://localhost:8080/"
        },
        "id": "8Z3ncy004b-u",
        "outputId": "9e485940-4da1-47e9-d122-c5903bd1b850"
      },
      "outputs": [
        {
          "name": "stdout",
          "output_type": "stream",
          "text": [
            "Cross-validation accuracy: 0.9998860733455354\n"
          ]
        }
      ],
      "source": [
        "from sklearn.model_selection import cross_val_score\n",
        "\n",
        "scores = cross_val_score(classifier, X_train, y_train, cv=5)\n",
        "print(\"Cross-validation accuracy:\", scores.mean())"
      ]
    },
    {
      "cell_type": "code",
      "execution_count": 27,
      "id": "avkh56xz-63-",
      "metadata": {
        "id": "avkh56xz-63-"
      },
      "outputs": [],
      "source": [
        "import pickle\n",
        "\n",
        "# Save the trained model as a pickle string.\n",
        "saved_model = pickle.dumps(classifier)\n",
        "\n",
        "# Load the pickled model\n",
        "classifier_from_pickle = pickle.loads(saved_model)\n",
        "\n",
        "# Use the loaded pickled model to make predictions\n",
        "y_pred_from_pickle = classifier_from_pickle.predict(X_test)"
      ]
    },
    {
      "cell_type": "code",
      "execution_count": 28,
      "id": "PNqsA_ov_Z4I",
      "metadata": {
        "colab": {
          "base_uri": "https://localhost:8080/"
        },
        "id": "PNqsA_ov_Z4I",
        "outputId": "a223d2f3-8e9e-4735-b7a9-e5ed3af76764"
      },
      "outputs": [
        {
          "name": "stdout",
          "output_type": "stream",
          "text": [
            "Accuracy: 99.99%\n"
          ]
        }
      ],
      "source": [
        "accuracy = accuracy_score(y_test, y_pred_from_pickle)\n",
        "print(f'Accuracy: {accuracy * 100:.2f}%')"
      ]
    },
    {
      "cell_type": "code",
      "execution_count": 29,
      "id": "RLeVLjB3Avr-",
      "metadata": {
        "colab": {
          "base_uri": "https://localhost:8080/"
        },
        "id": "RLeVLjB3Avr-",
        "outputId": "025790dd-b484-423d-c8df-4fc06d89e43c"
      },
      "outputs": [
        {
          "data": {
            "text/plain": [
              "['classifier_joblib.joblib']"
            ]
          },
          "execution_count": 29,
          "metadata": {},
          "output_type": "execute_result"
        }
      ],
      "source": [
        "from joblib import Parallel, delayed\n",
        "import joblib\n",
        "\n",
        "\n",
        "# Save the model as a pickle in a file\n",
        "joblib.dump(classifier, 'classifier.pkl')\n",
        "joblib.dump(classifier, 'classifier_joblib.joblib')\n",
        "\n"
      ]
    },
    {
      "cell_type": "code",
      "execution_count": 30,
      "id": "y3UnT_tgYDZ7",
      "metadata": {
        "colab": {
          "base_uri": "https://localhost:8080/"
        },
        "id": "y3UnT_tgYDZ7",
        "outputId": "48849db6-75e6-4b24-ab2d-c3319cf3e40b"
      },
      "outputs": [
        {
          "data": {
            "text/plain": [
              "['model_pipeline.joblib']"
            ]
          },
          "execution_count": 30,
          "metadata": {},
          "output_type": "execute_result"
        }
      ],
      "source": [
        "from sklearn.pipeline import Pipeline\n",
        "\n",
        "pipeline = Pipeline([\n",
        "    ('scaler', StandardScaler()),  # sau MinMaxScaler, daca ai folosit\n",
        "    ('clf', RandomForestClassifier(n_estimators=101, random_state=0))\n",
        "])\n",
        "\n",
        "# Antrenare pipeline\n",
        "pipeline.fit(X_train, y_train)\n",
        "\n",
        "joblib.dump(pipeline, \"model_pipeline.joblib\")"
      ]
    },
    {
      "cell_type": "code",
      "execution_count": 31,
      "id": "uNkhoZBuoOsr",
      "metadata": {
        "colab": {
          "base_uri": "https://localhost:8080/"
        },
        "id": "uNkhoZBuoOsr",
        "outputId": "fe6b5ff6-80c8-4c60-ac22-01dacf5125d8"
      },
      "outputs": [
        {
          "data": {
            "text/plain": [
              "['features_used_joblib.joblib']"
            ]
          },
          "execution_count": 31,
          "metadata": {},
          "output_type": "execute_result"
        }
      ],
      "source": [
        "features_used = list(X.columns)\n",
        "joblib.dump(features_used, \"features_used_joblib.joblib\")"
      ]
    }
  ],
  "metadata": {
    "accelerator": "GPU",
    "colab": {
      "gpuType": "T4",
      "provenance": []
    },
    "kernelspec": {
      "display_name": "Python 3",
      "name": "python3"
    },
    "language_info": {
      "codemirror_mode": {
        "name": "ipython",
        "version": 3
      },
      "file_extension": ".py",
      "mimetype": "text/x-python",
      "name": "python",
      "nbconvert_exporter": "python",
      "pygments_lexer": "ipython3",
      "version": "3.12.10"
    }
  },
  "nbformat": 4,
  "nbformat_minor": 5
}
